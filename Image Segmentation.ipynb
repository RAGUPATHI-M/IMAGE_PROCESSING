{
 "cells": [
  {
   "cell_type": "code",
   "execution_count": 2,
   "id": "fc6ee7fe",
   "metadata": {},
   "outputs": [],
   "source": [
    "import numpy as np\n",
    "import cv2"
   ]
  },
  {
   "cell_type": "code",
   "execution_count": 3,
   "id": "7ade2167",
   "metadata": {},
   "outputs": [],
   "source": [
    "img = cv2.imread(\"z:/GITHUB_REPOSITORIES/IMAGE_PROCESSING/image_samples/myfriends.jpg\")"
   ]
  },
  {
   "cell_type": "code",
   "execution_count": 4,
   "id": "b2837a73",
   "metadata": {},
   "outputs": [
    {
     "data": {
      "text/plain": [
       "array([[[114, 160, 168],\n",
       "        [114, 160, 168],\n",
       "        [114, 160, 168],\n",
       "        ...,\n",
       "        [ 17,  36,  49],\n",
       "        [ 15,  34,  47],\n",
       "        [ 13,  32,  45]],\n",
       "\n",
       "       [[114, 160, 168],\n",
       "        [114, 160, 168],\n",
       "        [114, 160, 168],\n",
       "        ...,\n",
       "        [ 17,  36,  49],\n",
       "        [ 15,  34,  47],\n",
       "        [ 14,  33,  46]],\n",
       "\n",
       "       [[114, 160, 168],\n",
       "        [114, 160, 168],\n",
       "        [114, 160, 168],\n",
       "        ...,\n",
       "        [ 17,  36,  49],\n",
       "        [ 16,  35,  48],\n",
       "        [ 15,  34,  47]],\n",
       "\n",
       "       ...,\n",
       "\n",
       "       [[ 98, 117, 108],\n",
       "        [ 98, 117, 108],\n",
       "        [ 99, 118, 109],\n",
       "        ...,\n",
       "        [ 63,  92, 106],\n",
       "        [ 62,  91, 105],\n",
       "        [ 62,  91, 105]],\n",
       "\n",
       "       [[ 98, 117, 108],\n",
       "        [ 99, 118, 109],\n",
       "        [ 99, 118, 109],\n",
       "        ...,\n",
       "        [ 62,  91, 105],\n",
       "        [ 62,  91, 105],\n",
       "        [ 62,  91, 105]],\n",
       "\n",
       "       [[ 98, 117, 108],\n",
       "        [ 99, 118, 109],\n",
       "        [100, 119, 110],\n",
       "        ...,\n",
       "        [ 62,  91, 105],\n",
       "        [ 62,  91, 105],\n",
       "        [ 62,  91, 105]]], dtype=uint8)"
      ]
     },
     "execution_count": 4,
     "metadata": {},
     "output_type": "execute_result"
    }
   ],
   "source": [
    "img"
   ]
  },
  {
   "cell_type": "code",
   "execution_count": 5,
   "id": "c55611a5",
   "metadata": {},
   "outputs": [],
   "source": [
    "img2 = img.reshape((-1,3))"
   ]
  },
  {
   "cell_type": "code",
   "execution_count": 6,
   "id": "9a26c801",
   "metadata": {},
   "outputs": [
    {
     "data": {
      "text/plain": [
       "array([[114, 160, 168],\n",
       "       [114, 160, 168],\n",
       "       [114, 160, 168],\n",
       "       ...,\n",
       "       [ 62,  91, 105],\n",
       "       [ 62,  91, 105],\n",
       "       [ 62,  91, 105]], dtype=uint8)"
      ]
     },
     "execution_count": 6,
     "metadata": {},
     "output_type": "execute_result"
    }
   ],
   "source": [
    "img2"
   ]
  },
  {
   "cell_type": "code",
   "execution_count": 7,
   "id": "94556913",
   "metadata": {},
   "outputs": [],
   "source": [
    "img2=np.float32(img2)"
   ]
  },
  {
   "cell_type": "code",
   "execution_count": 8,
   "id": "0c78113a",
   "metadata": {},
   "outputs": [],
   "source": [
    "criteria = (cv2.TermCriteria_EPS + cv2.TERM_CRITERIA_MAX_ITER,10,1.0)"
   ]
  },
  {
   "cell_type": "code",
   "execution_count": 9,
   "id": "fd19af46",
   "metadata": {},
   "outputs": [],
   "source": [
    "k = 4"
   ]
  },
  {
   "cell_type": "code",
   "execution_count": 10,
   "id": "04ad7011",
   "metadata": {},
   "outputs": [],
   "source": [
    "attempts = 10"
   ]
  },
  {
   "cell_type": "code",
   "execution_count": null,
   "id": "7fe03f9f",
   "metadata": {},
   "outputs": [],
   "source": [
    "ret,label,center = cv2.kmeans(img2,k,None,criteria,attempts,cv2.KMEANS_PP_CENTERS)"
   ]
  },
  {
   "cell_type": "code",
   "execution_count": null,
   "id": "4ea4a4f9",
   "metadata": {},
   "outputs": [],
   "source": [
    "center = np.uint4(center)"
   ]
  },
  {
   "cell_type": "code",
   "execution_count": null,
   "id": "98ac4e35",
   "metadata": {},
   "outputs": [],
   "source": [
    "res = center[label.flatten()]\n",
    "res2 = res.reshape((img.shape))"
   ]
  },
  {
   "cell_type": "code",
   "execution_count": null,
   "id": "babf9f43",
   "metadata": {},
   "outputs": [],
   "source": [
    "  "
   ]
  }
 ],
 "metadata": {
  "kernelspec": {
   "display_name": "Python 3 (ipykernel)",
   "language": "python",
   "name": "python3"
  },
  "language_info": {
   "codemirror_mode": {
    "name": "ipython",
    "version": 3
   },
   "file_extension": ".py",
   "mimetype": "text/x-python",
   "name": "python",
   "nbconvert_exporter": "python",
   "pygments_lexer": "ipython3",
   "version": "3.10.0"
  }
 },
 "nbformat": 4,
 "nbformat_minor": 5
}
