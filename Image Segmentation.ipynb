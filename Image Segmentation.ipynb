{
 "cells": [
  {
   "cell_type": "code",
   "execution_count": 1,
   "id": "fc6ee7fe",
   "metadata": {},
   "outputs": [],
   "source": [
    "import numpy as np\n",
    "import cv2"
   ]
  },
  {
   "cell_type": "code",
   "execution_count": 2,
   "id": "7ade2167",
   "metadata": {},
   "outputs": [],
   "source": [
    "img = cv2.imread(\"z:/GITHUB_REPOSITORIES/IMAGE_PROCESSING/image_samples/myfriends.jpg\")"
   ]
  },
  {
   "cell_type": "code",
   "execution_count": 3,
   "id": "b2837a73",
   "metadata": {},
   "outputs": [
    {
     "data": {
      "text/plain": [
       "array([[[114, 160, 168],\n",
       "        [114, 160, 168],\n",
       "        [114, 160, 168],\n",
       "        ...,\n",
       "        [ 17,  36,  49],\n",
       "        [ 15,  34,  47],\n",
       "        [ 13,  32,  45]],\n",
       "\n",
       "       [[114, 160, 168],\n",
       "        [114, 160, 168],\n",
       "        [114, 160, 168],\n",
       "        ...,\n",
       "        [ 17,  36,  49],\n",
       "        [ 15,  34,  47],\n",
       "        [ 14,  33,  46]],\n",
       "\n",
       "       [[114, 160, 168],\n",
       "        [114, 160, 168],\n",
       "        [114, 160, 168],\n",
       "        ...,\n",
       "        [ 17,  36,  49],\n",
       "        [ 16,  35,  48],\n",
       "        [ 15,  34,  47]],\n",
       "\n",
       "       ...,\n",
       "\n",
       "       [[ 98, 117, 108],\n",
       "        [ 98, 117, 108],\n",
       "        [ 99, 118, 109],\n",
       "        ...,\n",
       "        [ 63,  92, 106],\n",
       "        [ 62,  91, 105],\n",
       "        [ 62,  91, 105]],\n",
       "\n",
       "       [[ 98, 117, 108],\n",
       "        [ 99, 118, 109],\n",
       "        [ 99, 118, 109],\n",
       "        ...,\n",
       "        [ 62,  91, 105],\n",
       "        [ 62,  91, 105],\n",
       "        [ 62,  91, 105]],\n",
       "\n",
       "       [[ 98, 117, 108],\n",
       "        [ 99, 118, 109],\n",
       "        [100, 119, 110],\n",
       "        ...,\n",
       "        [ 62,  91, 105],\n",
       "        [ 62,  91, 105],\n",
       "        [ 62,  91, 105]]], dtype=uint8)"
      ]
     },
     "execution_count": 3,
     "metadata": {},
     "output_type": "execute_result"
    }
   ],
   "source": [
    "img"
   ]
  },
  {
   "cell_type": "code",
   "execution_count": 4,
   "id": "c55611a5",
   "metadata": {},
   "outputs": [],
   "source": [
    "img2 = img.reshape((-1,3))"
   ]
  },
  {
   "cell_type": "code",
   "execution_count": 5,
   "id": "9a26c801",
   "metadata": {},
   "outputs": [
    {
     "data": {
      "text/plain": [
       "array([[114, 160, 168],\n",
       "       [114, 160, 168],\n",
       "       [114, 160, 168],\n",
       "       ...,\n",
       "       [ 62,  91, 105],\n",
       "       [ 62,  91, 105],\n",
       "       [ 62,  91, 105]], dtype=uint8)"
      ]
     },
     "execution_count": 5,
     "metadata": {},
     "output_type": "execute_result"
    }
   ],
   "source": [
    "img2"
   ]
  },
  {
   "cell_type": "code",
   "execution_count": 6,
   "id": "94556913",
   "metadata": {},
   "outputs": [],
   "source": [
    "img2=np.float32(img2)"
   ]
  },
  {
   "cell_type": "code",
   "execution_count": 7,
   "id": "0c78113a",
   "metadata": {},
   "outputs": [],
   "source": [
    "criteria = (cv2.TermCriteria_EPS + cv2.TERM_CRITERIA_MAX_ITER,10,1.0)"
   ]
  },
  {
   "cell_type": "code",
   "execution_count": 8,
   "id": "fd19af46",
   "metadata": {},
   "outputs": [],
   "source": [
    "k = 4"
   ]
  },
  {
   "cell_type": "code",
   "execution_count": 9,
   "id": "04ad7011",
   "metadata": {},
   "outputs": [],
   "source": [
    "attempts = 10"
   ]
  },
  {
   "cell_type": "code",
   "execution_count": 12,
   "id": "7fe03f9f",
   "metadata": {},
   "outputs": [],
   "source": [
    "ret,label,center = cv2.kmeans(img2,k,None,criteria,attempts,cv2.KMEANS_PP_CENTERS)"
   ]
  },
  {
   "cell_type": "code",
   "execution_count": 25,
   "id": "4ea4a4f9",
   "metadata": {},
   "outputs": [
    {
     "ename": "TypeError",
     "evalue": "int() argument must be a string, a bytes-like object or a real number, not 'type'",
     "output_type": "error",
     "traceback": [
      "\u001b[1;31m---------------------------------------------\u001b[0m",
      "\u001b[1;31mTypeError\u001b[0m   Traceback (most recent call last)",
      "Input \u001b[1;32mIn [25]\u001b[0m, in \u001b[0;36m<module>\u001b[1;34m\u001b[0m\n\u001b[1;32m----> 1\u001b[0m center \u001b[38;5;241m=\u001b[39m \u001b[43mnp\u001b[49m\u001b[38;5;241;43m.\u001b[39;49m\u001b[43muint8\u001b[49m\u001b[43m(\u001b[49m\u001b[43mcenter\u001b[49m\u001b[43m)\u001b[49m\n",
      "\u001b[1;31mTypeError\u001b[0m: int() argument must be a string, a bytes-like object or a real number, not 'type'"
     ]
    }
   ],
   "source": [
    "center = np.uint8(center)"
   ]
  },
  {
   "cell_type": "code",
   "execution_count": 24,
   "id": "98ac4e35",
   "metadata": {},
   "outputs": [
    {
     "ename": "TypeError",
     "evalue": "There are no type variables left in numpy.uint32",
     "output_type": "error",
     "traceback": [
      "\u001b[1;31m---------------------------------------------\u001b[0m",
      "\u001b[1;31mTypeError\u001b[0m   Traceback (most recent call last)",
      "Input \u001b[1;32mIn [24]\u001b[0m, in \u001b[0;36m<module>\u001b[1;34m\u001b[0m\n\u001b[1;32m----> 1\u001b[0m res \u001b[38;5;241m=\u001b[39m \u001b[43mcenter\u001b[49m\u001b[43m[\u001b[49m\u001b[43mlabel\u001b[49m\u001b[38;5;241;43m.\u001b[39;49m\u001b[43mflatten\u001b[49m\u001b[43m(\u001b[49m\u001b[43m)\u001b[49m\u001b[43m]\u001b[49m\n\u001b[0;32m      2\u001b[0m res2 \u001b[38;5;241m=\u001b[39m res\u001b[38;5;241m.\u001b[39mreshape((img\u001b[38;5;241m.\u001b[39mshape))\n",
      "\u001b[1;31mTypeError\u001b[0m: There are no type variables left in numpy.uint32"
     ]
    }
   ],
   "source": [
    "res = center[label.flatten()]\n",
    "res2 = res.reshape((img.shape))"
   ]
  },
  {
   "cell_type": "code",
   "execution_count": null,
   "id": "babf9f43",
   "metadata": {},
   "outputs": [],
   "source": [
    "  "
   ]
  }
 ],
 "metadata": {
  "kernelspec": {
   "display_name": "Python 3 (ipykernel)",
   "language": "python",
   "name": "python3"
  },
  "language_info": {
   "codemirror_mode": {
    "name": "ipython",
    "version": 3
   },
   "file_extension": ".py",
   "mimetype": "text/x-python",
   "name": "python",
   "nbconvert_exporter": "python",
   "pygments_lexer": "ipython3",
   "version": "3.10.0"
  }
 },
 "nbformat": 4,
 "nbformat_minor": 5
}
